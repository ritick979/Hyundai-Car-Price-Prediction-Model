{
 "cells": [
  {
   "cell_type": "code",
   "execution_count": 370,
   "id": "f7e6124a",
   "metadata": {},
   "outputs": [],
   "source": [
    "import numpy as np\n",
    "import pandas as pd\n",
    "import matplotlib.pyplot as plt\n",
    "import seaborn as sns"
   ]
  },
  {
   "cell_type": "markdown",
   "id": "063fb210",
   "metadata": {},
   "source": [
    "# Import Data"
   ]
  },
  {
   "cell_type": "code",
   "execution_count": 371,
   "id": "5dc24245",
   "metadata": {},
   "outputs": [
    {
     "data": {
      "text/html": [
       "<div>\n",
       "<style scoped>\n",
       "    .dataframe tbody tr th:only-of-type {\n",
       "        vertical-align: middle;\n",
       "    }\n",
       "\n",
       "    .dataframe tbody tr th {\n",
       "        vertical-align: top;\n",
       "    }\n",
       "\n",
       "    .dataframe thead th {\n",
       "        text-align: right;\n",
       "    }\n",
       "</style>\n",
       "<table border=\"1\" class=\"dataframe\">\n",
       "  <thead>\n",
       "    <tr style=\"text-align: right;\">\n",
       "      <th></th>\n",
       "      <th>model</th>\n",
       "      <th>year</th>\n",
       "      <th>transmission</th>\n",
       "      <th>mileage</th>\n",
       "      <th>fuelType</th>\n",
       "      <th>tax(£)</th>\n",
       "      <th>mpg</th>\n",
       "      <th>engineSize</th>\n",
       "      <th>price</th>\n",
       "    </tr>\n",
       "  </thead>\n",
       "  <tbody>\n",
       "    <tr>\n",
       "      <th>0</th>\n",
       "      <td>I20</td>\n",
       "      <td>2017</td>\n",
       "      <td>Manual</td>\n",
       "      <td>17307</td>\n",
       "      <td>Petrol</td>\n",
       "      <td>145</td>\n",
       "      <td>58.9</td>\n",
       "      <td>1.2</td>\n",
       "      <td>7999</td>\n",
       "    </tr>\n",
       "    <tr>\n",
       "      <th>1</th>\n",
       "      <td>Tucson</td>\n",
       "      <td>2016</td>\n",
       "      <td>Automatic</td>\n",
       "      <td>25233</td>\n",
       "      <td>Diesel</td>\n",
       "      <td>235</td>\n",
       "      <td>43.5</td>\n",
       "      <td>2.0</td>\n",
       "      <td>14499</td>\n",
       "    </tr>\n",
       "    <tr>\n",
       "      <th>2</th>\n",
       "      <td>Tucson</td>\n",
       "      <td>2016</td>\n",
       "      <td>Manual</td>\n",
       "      <td>37877</td>\n",
       "      <td>Diesel</td>\n",
       "      <td>30</td>\n",
       "      <td>61.7</td>\n",
       "      <td>1.7</td>\n",
       "      <td>11399</td>\n",
       "    </tr>\n",
       "    <tr>\n",
       "      <th>3</th>\n",
       "      <td>I10</td>\n",
       "      <td>2016</td>\n",
       "      <td>Manual</td>\n",
       "      <td>23789</td>\n",
       "      <td>Petrol</td>\n",
       "      <td>20</td>\n",
       "      <td>60.1</td>\n",
       "      <td>1.0</td>\n",
       "      <td>6499</td>\n",
       "    </tr>\n",
       "    <tr>\n",
       "      <th>4</th>\n",
       "      <td>IX35</td>\n",
       "      <td>2015</td>\n",
       "      <td>Manual</td>\n",
       "      <td>33177</td>\n",
       "      <td>Diesel</td>\n",
       "      <td>160</td>\n",
       "      <td>51.4</td>\n",
       "      <td>2.0</td>\n",
       "      <td>10199</td>\n",
       "    </tr>\n",
       "    <tr>\n",
       "      <th>...</th>\n",
       "      <td>...</td>\n",
       "      <td>...</td>\n",
       "      <td>...</td>\n",
       "      <td>...</td>\n",
       "      <td>...</td>\n",
       "      <td>...</td>\n",
       "      <td>...</td>\n",
       "      <td>...</td>\n",
       "      <td>...</td>\n",
       "    </tr>\n",
       "    <tr>\n",
       "      <th>4855</th>\n",
       "      <td>I30</td>\n",
       "      <td>2016</td>\n",
       "      <td>Manual</td>\n",
       "      <td>25906</td>\n",
       "      <td>Diesel</td>\n",
       "      <td>0</td>\n",
       "      <td>78.4</td>\n",
       "      <td>1.6</td>\n",
       "      <td>8680</td>\n",
       "    </tr>\n",
       "    <tr>\n",
       "      <th>4856</th>\n",
       "      <td>I40</td>\n",
       "      <td>2015</td>\n",
       "      <td>Manual</td>\n",
       "      <td>59508</td>\n",
       "      <td>Diesel</td>\n",
       "      <td>30</td>\n",
       "      <td>65.7</td>\n",
       "      <td>1.7</td>\n",
       "      <td>7830</td>\n",
       "    </tr>\n",
       "    <tr>\n",
       "      <th>4857</th>\n",
       "      <td>I10</td>\n",
       "      <td>2017</td>\n",
       "      <td>Manual</td>\n",
       "      <td>13810</td>\n",
       "      <td>Petrol</td>\n",
       "      <td>20</td>\n",
       "      <td>60.1</td>\n",
       "      <td>1.0</td>\n",
       "      <td>6830</td>\n",
       "    </tr>\n",
       "    <tr>\n",
       "      <th>4858</th>\n",
       "      <td>Tucson</td>\n",
       "      <td>2018</td>\n",
       "      <td>Manual</td>\n",
       "      <td>23313</td>\n",
       "      <td>Petrol</td>\n",
       "      <td>145</td>\n",
       "      <td>44.8</td>\n",
       "      <td>1.6</td>\n",
       "      <td>13994</td>\n",
       "    </tr>\n",
       "    <tr>\n",
       "      <th>4859</th>\n",
       "      <td>Tucson</td>\n",
       "      <td>2016</td>\n",
       "      <td>Automatic</td>\n",
       "      <td>11472</td>\n",
       "      <td>Diesel</td>\n",
       "      <td>125</td>\n",
       "      <td>57.6</td>\n",
       "      <td>1.7</td>\n",
       "      <td>15999</td>\n",
       "    </tr>\n",
       "  </tbody>\n",
       "</table>\n",
       "<p>4860 rows × 9 columns</p>\n",
       "</div>"
      ],
      "text/plain": [
       "        model  year transmission  mileage fuelType  tax(£)   mpg  engineSize  \\\n",
       "0         I20  2017       Manual    17307   Petrol     145  58.9         1.2   \n",
       "1      Tucson  2016    Automatic    25233   Diesel     235  43.5         2.0   \n",
       "2      Tucson  2016       Manual    37877   Diesel      30  61.7         1.7   \n",
       "3         I10  2016       Manual    23789   Petrol      20  60.1         1.0   \n",
       "4        IX35  2015       Manual    33177   Diesel     160  51.4         2.0   \n",
       "...       ...   ...          ...      ...      ...     ...   ...         ...   \n",
       "4855      I30  2016       Manual    25906   Diesel       0  78.4         1.6   \n",
       "4856      I40  2015       Manual    59508   Diesel      30  65.7         1.7   \n",
       "4857      I10  2017       Manual    13810   Petrol      20  60.1         1.0   \n",
       "4858   Tucson  2018       Manual    23313   Petrol     145  44.8         1.6   \n",
       "4859   Tucson  2016    Automatic    11472   Diesel     125  57.6         1.7   \n",
       "\n",
       "      price  \n",
       "0      7999  \n",
       "1     14499  \n",
       "2     11399  \n",
       "3      6499  \n",
       "4     10199  \n",
       "...     ...  \n",
       "4855   8680  \n",
       "4856   7830  \n",
       "4857   6830  \n",
       "4858  13994  \n",
       "4859  15999  \n",
       "\n",
       "[4860 rows x 9 columns]"
      ]
     },
     "execution_count": 371,
     "metadata": {},
     "output_type": "execute_result"
    }
   ],
   "source": [
    "df = pd.read_csv(r\"C:\\Users\\Suman Kumar\\Dropbox\\PC\\Downloads\\ML Assignments\\hyundi.csv\")\n",
    "df"
   ]
  },
  {
   "cell_type": "markdown",
   "id": "eb1bc93f",
   "metadata": {},
   "source": [
    "# Check dataset size"
   ]
  },
  {
   "cell_type": "code",
   "execution_count": 372,
   "id": "41e44a8b",
   "metadata": {},
   "outputs": [
    {
     "data": {
      "text/plain": [
       "(4860, 9)"
      ]
     },
     "execution_count": 372,
     "metadata": {},
     "output_type": "execute_result"
    }
   ],
   "source": [
    "df.shape"
   ]
  },
  {
   "cell_type": "markdown",
   "id": "f5a4d481",
   "metadata": {},
   "source": [
    "# Find and treat missing values (If any)"
   ]
  },
  {
   "cell_type": "code",
   "execution_count": 373,
   "id": "16824123",
   "metadata": {},
   "outputs": [
    {
     "data": {
      "text/plain": [
       "model           0\n",
       "year            0\n",
       "transmission    0\n",
       "mileage         0\n",
       "fuelType        0\n",
       "tax(£)          0\n",
       "mpg             0\n",
       "engineSize      0\n",
       "price           0\n",
       "dtype: int64"
      ]
     },
     "execution_count": 373,
     "metadata": {},
     "output_type": "execute_result"
    }
   ],
   "source": [
    "df.isna().sum()"
   ]
  },
  {
   "cell_type": "markdown",
   "id": "08a4a8e0",
   "metadata": {},
   "source": [
    "# Check column types and describe which columns are numerical or categorical"
   ]
  },
  {
   "cell_type": "code",
   "execution_count": 374,
   "id": "26340835",
   "metadata": {},
   "outputs": [
    {
     "data": {
      "text/plain": [
       "model            object\n",
       "year              int64\n",
       "transmission     object\n",
       "mileage           int64\n",
       "fuelType         object\n",
       "tax(£)            int64\n",
       "mpg             float64\n",
       "engineSize      float64\n",
       "price             int64\n",
       "dtype: object"
      ]
     },
     "execution_count": 374,
     "metadata": {},
     "output_type": "execute_result"
    }
   ],
   "source": [
    "df.dtypes"
   ]
  },
  {
   "cell_type": "code",
   "execution_count": 375,
   "id": "eabf5d88",
   "metadata": {},
   "outputs": [
    {
     "data": {
      "text/html": [
       "<div>\n",
       "<style scoped>\n",
       "    .dataframe tbody tr th:only-of-type {\n",
       "        vertical-align: middle;\n",
       "    }\n",
       "\n",
       "    .dataframe tbody tr th {\n",
       "        vertical-align: top;\n",
       "    }\n",
       "\n",
       "    .dataframe thead th {\n",
       "        text-align: right;\n",
       "    }\n",
       "</style>\n",
       "<table border=\"1\" class=\"dataframe\">\n",
       "  <thead>\n",
       "    <tr style=\"text-align: right;\">\n",
       "      <th></th>\n",
       "      <th>year</th>\n",
       "      <th>price</th>\n",
       "    </tr>\n",
       "  </thead>\n",
       "  <tbody>\n",
       "    <tr>\n",
       "      <th>sum</th>\n",
       "      <td>9803143</td>\n",
       "      <td>61965637</td>\n",
       "    </tr>\n",
       "    <tr>\n",
       "      <th>min</th>\n",
       "      <td>2000</td>\n",
       "      <td>1200</td>\n",
       "    </tr>\n",
       "  </tbody>\n",
       "</table>\n",
       "</div>"
      ],
      "text/plain": [
       "        year     price\n",
       "sum  9803143  61965637\n",
       "min     2000      1200"
      ]
     },
     "execution_count": 375,
     "metadata": {},
     "output_type": "execute_result"
    }
   ],
   "source": [
    "df[['year','price']].agg(['sum','min'])"
   ]
  },
  {
   "cell_type": "markdown",
   "id": "66acab25",
   "metadata": {},
   "source": [
    "# Perform Univariate analysis\n",
    "Calculate mean, median, std dev, and quartiles of numerical data\n"
   ]
  },
  {
   "cell_type": "code",
   "execution_count": 376,
   "id": "d24f69a5",
   "metadata": {},
   "outputs": [
    {
     "data": {
      "text/html": [
       "<div>\n",
       "<style scoped>\n",
       "    .dataframe tbody tr th:only-of-type {\n",
       "        vertical-align: middle;\n",
       "    }\n",
       "\n",
       "    .dataframe tbody tr th {\n",
       "        vertical-align: top;\n",
       "    }\n",
       "\n",
       "    .dataframe thead th {\n",
       "        text-align: right;\n",
       "    }\n",
       "</style>\n",
       "<table border=\"1\" class=\"dataframe\">\n",
       "  <thead>\n",
       "    <tr style=\"text-align: right;\">\n",
       "      <th></th>\n",
       "      <th>year</th>\n",
       "      <th>mileage</th>\n",
       "      <th>tax(£)</th>\n",
       "      <th>mpg</th>\n",
       "      <th>engineSize</th>\n",
       "      <th>price</th>\n",
       "    </tr>\n",
       "  </thead>\n",
       "  <tbody>\n",
       "    <tr>\n",
       "      <th>count</th>\n",
       "      <td>4860.000000</td>\n",
       "      <td>4860.000000</td>\n",
       "      <td>4860.000000</td>\n",
       "      <td>4860.000000</td>\n",
       "      <td>4860.000000</td>\n",
       "      <td>4860.00000</td>\n",
       "    </tr>\n",
       "    <tr>\n",
       "      <th>mean</th>\n",
       "      <td>2017.107613</td>\n",
       "      <td>21486.049588</td>\n",
       "      <td>121.147119</td>\n",
       "      <td>53.827798</td>\n",
       "      <td>1.457922</td>\n",
       "      <td>12750.13107</td>\n",
       "    </tr>\n",
       "    <tr>\n",
       "      <th>std</th>\n",
       "      <td>1.920456</td>\n",
       "      <td>17710.196964</td>\n",
       "      <td>58.003289</td>\n",
       "      <td>12.736042</td>\n",
       "      <td>0.400788</td>\n",
       "      <td>5992.92231</td>\n",
       "    </tr>\n",
       "    <tr>\n",
       "      <th>min</th>\n",
       "      <td>2000.000000</td>\n",
       "      <td>1.000000</td>\n",
       "      <td>0.000000</td>\n",
       "      <td>1.100000</td>\n",
       "      <td>0.000000</td>\n",
       "      <td>1200.00000</td>\n",
       "    </tr>\n",
       "    <tr>\n",
       "      <th>25%</th>\n",
       "      <td>2016.000000</td>\n",
       "      <td>8339.250000</td>\n",
       "      <td>125.000000</td>\n",
       "      <td>44.800000</td>\n",
       "      <td>1.200000</td>\n",
       "      <td>8000.00000</td>\n",
       "    </tr>\n",
       "    <tr>\n",
       "      <th>50%</th>\n",
       "      <td>2017.000000</td>\n",
       "      <td>17462.000000</td>\n",
       "      <td>145.000000</td>\n",
       "      <td>55.400000</td>\n",
       "      <td>1.600000</td>\n",
       "      <td>11990.00000</td>\n",
       "    </tr>\n",
       "    <tr>\n",
       "      <th>75%</th>\n",
       "      <td>2019.000000</td>\n",
       "      <td>30967.000000</td>\n",
       "      <td>145.000000</td>\n",
       "      <td>60.100000</td>\n",
       "      <td>1.700000</td>\n",
       "      <td>15733.75000</td>\n",
       "    </tr>\n",
       "    <tr>\n",
       "      <th>max</th>\n",
       "      <td>2020.000000</td>\n",
       "      <td>138000.000000</td>\n",
       "      <td>555.000000</td>\n",
       "      <td>256.800000</td>\n",
       "      <td>2.900000</td>\n",
       "      <td>92000.00000</td>\n",
       "    </tr>\n",
       "  </tbody>\n",
       "</table>\n",
       "</div>"
      ],
      "text/plain": [
       "              year        mileage       tax(£)          mpg   engineSize  \\\n",
       "count  4860.000000    4860.000000  4860.000000  4860.000000  4860.000000   \n",
       "mean   2017.107613   21486.049588   121.147119    53.827798     1.457922   \n",
       "std       1.920456   17710.196964    58.003289    12.736042     0.400788   \n",
       "min    2000.000000       1.000000     0.000000     1.100000     0.000000   \n",
       "25%    2016.000000    8339.250000   125.000000    44.800000     1.200000   \n",
       "50%    2017.000000   17462.000000   145.000000    55.400000     1.600000   \n",
       "75%    2019.000000   30967.000000   145.000000    60.100000     1.700000   \n",
       "max    2020.000000  138000.000000   555.000000   256.800000     2.900000   \n",
       "\n",
       "             price  \n",
       "count   4860.00000  \n",
       "mean   12750.13107  \n",
       "std     5992.92231  \n",
       "min     1200.00000  \n",
       "25%     8000.00000  \n",
       "50%    11990.00000  \n",
       "75%    15733.75000  \n",
       "max    92000.00000  "
      ]
     },
     "execution_count": 376,
     "metadata": {},
     "output_type": "execute_result"
    }
   ],
   "source": [
    "df.describe()"
   ]
  },
  {
   "cell_type": "markdown",
   "id": "0c171c44",
   "metadata": {},
   "source": [
    "# Plot histogram for a few categorical variables"
   ]
  },
  {
   "cell_type": "code",
   "execution_count": 377,
   "id": "4c0278bd",
   "metadata": {},
   "outputs": [
    {
     "data": {
      "text/plain": [
       "(array([0., 0., 0., 0., 0., 1., 0., 0., 0., 0.]),\n",
       " array([-0.5, -0.4, -0.3, -0.2, -0.1,  0. ,  0.1,  0.2,  0.3,  0.4,  0.5]),\n",
       " <BarContainer object of 10 artists>)"
      ]
     },
     "execution_count": 377,
     "metadata": {},
     "output_type": "execute_result"
    },
    {
     "data": {
      "image/png": "[encoded data removed]",
      "text/plain": [
       "<Figure size 432x288 with 1 Axes>"
      ]
     },
     "metadata": {
      "needs_background": "light"
     },
     "output_type": "display_data"
    }
   ],
   "source": [
    "plt.hist('transmission')"
   ]
  },
  {
   "cell_type": "markdown",
   "id": "35b9e02d",
   "metadata": {},
   "source": [
    "# Check the distribution of numerical variables and comment on it"
   ]
  },
  {
   "cell_type": "code",
   "execution_count": null,
   "id": "da69cef3",
   "metadata": {},
   "outputs": [],
   "source": []
  },
  {
   "cell_type": "markdown",
   "id": "7388ddde",
   "metadata": {},
   "source": [
    "# Perform Bivariate analysis\n",
    "Plot pair plots"
   ]
  },
  {
   "cell_type": "code",
   "execution_count": 378,
   "id": "88b0c4b3",
   "metadata": {},
   "outputs": [
    {
     "data": {
      "text/plain": [
       "<seaborn.axisgrid.PairGrid at 0x1dfaa971640>"
      ]
     },
     "execution_count": 378,
     "metadata": {},
     "output_type": "execute_result"
    },
    {
     "data": {
      "image/png": "[encoded data removed]",
      "text/plain": [
       "<Figure size 1080x1080 with 42 Axes>"
      ]
     },
     "metadata": {
      "needs_background": "light"
     },
     "output_type": "display_data"
    }
   ],
   "source": [
    "sns.pairplot(df)"
   ]
  },
  {
   "cell_type": "markdown",
   "id": "db35dbc8",
   "metadata": {},
   "source": [
    "# Outlier removing"
   ]
  },
  {
   "cell_type": "code",
   "execution_count": 379,
   "id": "12c809ef",
   "metadata": {},
   "outputs": [
    {
     "data": {
      "image/png": "[encoded data removed]",
      "text/plain": [
       "<Figure size 432x288 with 1 Axes>"
      ]
     },
     "metadata": {
      "needs_background": "light"
     },
     "output_type": "display_data"
    },
    {
     "data": {
      "image/png": "[encoded data removed]",
      "text/plain": [
       "<Figure size 432x288 with 1 Axes>"
      ]
     },
     "metadata": {
      "needs_background": "light"
     },
     "output_type": "display_data"
    },
    {
     "data": {
      "image/png": "[encoded data removed]",
      "text/plain": [
       "<Figure size 432x288 with 1 Axes>"
      ]
     },
     "metadata": {
      "needs_background": "light"
     },
     "output_type": "display_data"
    },
    {
     "data": {
      "image/png": "[encoded data removed]",
      "text/plain": [
       "<Figure size 432x288 with 1 Axes>"
      ]
     },
     "metadata": {
      "needs_background": "light"
     },
     "output_type": "display_data"
    },
    {
     "data": {
      "image/png": "[encoded data removed]",
      "text/plain": [
       "<Figure size 432x288 with 1 Axes>"
      ]
     },
     "metadata": {
      "needs_background": "light"
     },
     "output_type": "display_data"
    },
    {
     "data": {
      "image/png": "[encoded data removed]",
      "text/plain": [
       "<Figure size 432x288 with 1 Axes>"
      ]
     },
     "metadata": {
      "needs_background": "light"
     },
     "output_type": "display_data"
    }
   ],
   "source": [
    "for i in df.columns:\n",
    "    if df[i].dtypes == object:\n",
    "        continue\n",
    "    plt.figure()\n",
    "    sns.boxplot(y = df[i])"
   ]
  },
  {
   "cell_type": "code",
   "execution_count": 380,
   "id": "1f241826",
   "metadata": {},
   "outputs": [
    {
     "data": {
      "image/png": "[encoded data removed]",
      "text/plain": [
       "<Figure size 432x288 with 1 Axes>"
      ]
     },
     "metadata": {
      "needs_background": "light"
     },
     "output_type": "display_data"
    },
    {
     "data": {
      "image/png": "[encoded data removed]",
      "text/plain": [
       "<Figure size 432x288 with 1 Axes>"
      ]
     },
     "metadata": {
      "needs_background": "light"
     },
     "output_type": "display_data"
    },
    {
     "data": {
      "image/png": "[encoded data removed]",
      "text/plain": [
       "<Figure size 432x288 with 1 Axes>"
      ]
     },
     "metadata": {
      "needs_background": "light"
     },
     "output_type": "display_data"
    },
    {
     "data": {
      "image/png": "[encoded data removed]",
      "text/plain": [
       "<Figure size 432x288 with 1 Axes>"
      ]
     },
     "metadata": {
      "needs_background": "light"
     },
     "output_type": "display_data"
    },
    {
     "data": {
      "image/png": "[encoded data removed]",
      "text/plain": [
       "<Figure size 432x288 with 1 Axes>"
      ]
     },
     "metadata": {
      "needs_background": "light"
     },
     "output_type": "display_data"
    },
    {
     "data": {
      "image/png": "[encoded data removed]",
      "text/plain": [
       "<Figure size 432x288 with 1 Axes>"
      ]
     },
     "metadata": {
      "needs_background": "light"
     },
     "output_type": "display_data"
    }
   ],
   "source": [
    "for i in df.columns:\n",
    "    if df[i].dtypes == object:\n",
    "        continue\n",
    "    \n",
    "    p25=df[i].quantile(0.25)\n",
    "    p75=df[i].quantile(0.75)\n",
    "    iqr=p75-p25\n",
    "    low=p25-(1.5*iqr)\n",
    "    up=p75+(1.5*iqr)\n",
    "    df=df[(df[i]>=low) & (df[i]<=up)]\n",
    "    plt.figure()\n",
    "    sns.boxplot(y = df[i])"
   ]
  },
  {
   "cell_type": "code",
   "execution_count": 381,
   "id": "d406251f",
   "metadata": {},
   "outputs": [
    {
     "data": {
      "text/html": [
       "<div>\n",
       "<style scoped>\n",
       "    .dataframe tbody tr th:only-of-type {\n",
       "        vertical-align: middle;\n",
       "    }\n",
       "\n",
       "    .dataframe tbody tr th {\n",
       "        vertical-align: top;\n",
       "    }\n",
       "\n",
       "    .dataframe thead th {\n",
       "        text-align: right;\n",
       "    }\n",
       "</style>\n",
       "<table border=\"1\" class=\"dataframe\">\n",
       "  <thead>\n",
       "    <tr style=\"text-align: right;\">\n",
       "      <th></th>\n",
       "      <th>model</th>\n",
       "      <th>year</th>\n",
       "      <th>transmission</th>\n",
       "      <th>mileage</th>\n",
       "      <th>fuelType</th>\n",
       "      <th>tax(£)</th>\n",
       "      <th>mpg</th>\n",
       "      <th>engineSize</th>\n",
       "      <th>price</th>\n",
       "    </tr>\n",
       "  </thead>\n",
       "  <tbody>\n",
       "    <tr>\n",
       "      <th>0</th>\n",
       "      <td>I20</td>\n",
       "      <td>2017</td>\n",
       "      <td>Manual</td>\n",
       "      <td>17307</td>\n",
       "      <td>Petrol</td>\n",
       "      <td>145</td>\n",
       "      <td>58.9</td>\n",
       "      <td>1.2</td>\n",
       "      <td>7999</td>\n",
       "    </tr>\n",
       "    <tr>\n",
       "      <th>4</th>\n",
       "      <td>IX35</td>\n",
       "      <td>2015</td>\n",
       "      <td>Manual</td>\n",
       "      <td>33177</td>\n",
       "      <td>Diesel</td>\n",
       "      <td>160</td>\n",
       "      <td>51.4</td>\n",
       "      <td>2.0</td>\n",
       "      <td>10199</td>\n",
       "    </tr>\n",
       "    <tr>\n",
       "      <th>7</th>\n",
       "      <td>Tucson</td>\n",
       "      <td>2016</td>\n",
       "      <td>Automatic</td>\n",
       "      <td>30300</td>\n",
       "      <td>Diesel</td>\n",
       "      <td>125</td>\n",
       "      <td>57.6</td>\n",
       "      <td>1.7</td>\n",
       "      <td>14199</td>\n",
       "    </tr>\n",
       "    <tr>\n",
       "      <th>8</th>\n",
       "      <td>I30</td>\n",
       "      <td>2018</td>\n",
       "      <td>Automatic</td>\n",
       "      <td>38082</td>\n",
       "      <td>Petrol</td>\n",
       "      <td>145</td>\n",
       "      <td>51.4</td>\n",
       "      <td>1.4</td>\n",
       "      <td>10399</td>\n",
       "    </tr>\n",
       "    <tr>\n",
       "      <th>10</th>\n",
       "      <td>Tucson</td>\n",
       "      <td>2017</td>\n",
       "      <td>Manual</td>\n",
       "      <td>22888</td>\n",
       "      <td>Diesel</td>\n",
       "      <td>150</td>\n",
       "      <td>61.7</td>\n",
       "      <td>1.7</td>\n",
       "      <td>13200</td>\n",
       "    </tr>\n",
       "    <tr>\n",
       "      <th>...</th>\n",
       "      <td>...</td>\n",
       "      <td>...</td>\n",
       "      <td>...</td>\n",
       "      <td>...</td>\n",
       "      <td>...</td>\n",
       "      <td>...</td>\n",
       "      <td>...</td>\n",
       "      <td>...</td>\n",
       "      <td>...</td>\n",
       "    </tr>\n",
       "    <tr>\n",
       "      <th>4850</th>\n",
       "      <td>I10</td>\n",
       "      <td>2018</td>\n",
       "      <td>Manual</td>\n",
       "      <td>17879</td>\n",
       "      <td>Petrol</td>\n",
       "      <td>145</td>\n",
       "      <td>60.1</td>\n",
       "      <td>1.0</td>\n",
       "      <td>7200</td>\n",
       "    </tr>\n",
       "    <tr>\n",
       "      <th>4851</th>\n",
       "      <td>I10</td>\n",
       "      <td>2018</td>\n",
       "      <td>Manual</td>\n",
       "      <td>8851</td>\n",
       "      <td>Petrol</td>\n",
       "      <td>145</td>\n",
       "      <td>60.1</td>\n",
       "      <td>1.0</td>\n",
       "      <td>7995</td>\n",
       "    </tr>\n",
       "    <tr>\n",
       "      <th>4852</th>\n",
       "      <td>I10</td>\n",
       "      <td>2018</td>\n",
       "      <td>Manual</td>\n",
       "      <td>14788</td>\n",
       "      <td>Petrol</td>\n",
       "      <td>150</td>\n",
       "      <td>60.1</td>\n",
       "      <td>1.0</td>\n",
       "      <td>7200</td>\n",
       "    </tr>\n",
       "    <tr>\n",
       "      <th>4858</th>\n",
       "      <td>Tucson</td>\n",
       "      <td>2018</td>\n",
       "      <td>Manual</td>\n",
       "      <td>23313</td>\n",
       "      <td>Petrol</td>\n",
       "      <td>145</td>\n",
       "      <td>44.8</td>\n",
       "      <td>1.6</td>\n",
       "      <td>13994</td>\n",
       "    </tr>\n",
       "    <tr>\n",
       "      <th>4859</th>\n",
       "      <td>Tucson</td>\n",
       "      <td>2016</td>\n",
       "      <td>Automatic</td>\n",
       "      <td>11472</td>\n",
       "      <td>Diesel</td>\n",
       "      <td>125</td>\n",
       "      <td>57.6</td>\n",
       "      <td>1.7</td>\n",
       "      <td>15999</td>\n",
       "    </tr>\n",
       "  </tbody>\n",
       "</table>\n",
       "<p>3283 rows × 9 columns</p>\n",
       "</div>"
      ],
      "text/plain": [
       "        model  year transmission  mileage fuelType  tax(£)   mpg  engineSize  \\\n",
       "0         I20  2017       Manual    17307   Petrol     145  58.9         1.2   \n",
       "4        IX35  2015       Manual    33177   Diesel     160  51.4         2.0   \n",
       "7      Tucson  2016    Automatic    30300   Diesel     125  57.6         1.7   \n",
       "8         I30  2018    Automatic    38082   Petrol     145  51.4         1.4   \n",
       "10     Tucson  2017       Manual    22888   Diesel     150  61.7         1.7   \n",
       "...       ...   ...          ...      ...      ...     ...   ...         ...   \n",
       "4850      I10  2018       Manual    17879   Petrol     145  60.1         1.0   \n",
       "4851      I10  2018       Manual     8851   Petrol     145  60.1         1.0   \n",
       "4852      I10  2018       Manual    14788   Petrol     150  60.1         1.0   \n",
       "4858   Tucson  2018       Manual    23313   Petrol     145  44.8         1.6   \n",
       "4859   Tucson  2016    Automatic    11472   Diesel     125  57.6         1.7   \n",
       "\n",
       "      price  \n",
       "0      7999  \n",
       "4     10199  \n",
       "7     14199  \n",
       "8     10399  \n",
       "10    13200  \n",
       "...     ...  \n",
       "4850   7200  \n",
       "4851   7995  \n",
       "4852   7200  \n",
       "4858  13994  \n",
       "4859  15999  \n",
       "\n",
       "[3283 rows x 9 columns]"
      ]
     },
     "execution_count": 381,
     "metadata": {},
     "output_type": "execute_result"
    }
   ],
   "source": [
    "df"
   ]
  },
  {
   "cell_type": "markdown",
   "id": "0790f4d9",
   "metadata": {},
   "source": [
    "# Perform a Chi-square analysis to check whether there is a relationship between\n",
    "### transmission and fuelType\n",
    "### fuelType and model\n"
   ]
  },
  {
   "cell_type": "code",
   "execution_count": 382,
   "id": "5beea826",
   "metadata": {},
   "outputs": [
    {
     "data": {
      "text/html": [
       "<div>\n",
       "<style scoped>\n",
       "    .dataframe tbody tr th:only-of-type {\n",
       "        vertical-align: middle;\n",
       "    }\n",
       "\n",
       "    .dataframe tbody tr th {\n",
       "        vertical-align: top;\n",
       "    }\n",
       "\n",
       "    .dataframe thead th {\n",
       "        text-align: right;\n",
       "    }\n",
       "</style>\n",
       "<table border=\"1\" class=\"dataframe\">\n",
       "  <thead>\n",
       "    <tr style=\"text-align: right;\">\n",
       "      <th></th>\n",
       "    </tr>\n",
       "  </thead>\n",
       "  <tbody>\n",
       "  </tbody>\n",
       "</table>\n",
       "</div>"
      ],
      "text/plain": [
       "Empty DataFrame\n",
       "Columns: []\n",
       "Index: []"
      ]
     },
     "execution_count": 382,
     "metadata": {},
     "output_type": "execute_result"
    }
   ],
   "source": [
    "df[['transmission','fuelType']].corr()"
   ]
  },
  {
   "cell_type": "code",
   "execution_count": 383,
   "id": "bd0d722e",
   "metadata": {},
   "outputs": [
    {
     "data": {
      "text/html": [
       "<div>\n",
       "<style scoped>\n",
       "    .dataframe tbody tr th:only-of-type {\n",
       "        vertical-align: middle;\n",
       "    }\n",
       "\n",
       "    .dataframe tbody tr th {\n",
       "        vertical-align: top;\n",
       "    }\n",
       "\n",
       "    .dataframe thead th {\n",
       "        text-align: right;\n",
       "    }\n",
       "</style>\n",
       "<table border=\"1\" class=\"dataframe\">\n",
       "  <thead>\n",
       "    <tr style=\"text-align: right;\">\n",
       "      <th></th>\n",
       "    </tr>\n",
       "  </thead>\n",
       "  <tbody>\n",
       "  </tbody>\n",
       "</table>\n",
       "</div>"
      ],
      "text/plain": [
       "Empty DataFrame\n",
       "Columns: []\n",
       "Index: []"
      ]
     },
     "execution_count": 383,
     "metadata": {},
     "output_type": "execute_result"
    }
   ],
   "source": [
    "df[['model','fuelType']].corr()"
   ]
  },
  {
   "cell_type": "markdown",
   "id": "d1e38a5b",
   "metadata": {},
   "source": [
    "# Calculate Pearson correlation, and plot their heatmap"
   ]
  },
  {
   "cell_type": "code",
   "execution_count": 384,
   "id": "59daefed",
   "metadata": {},
   "outputs": [
    {
     "data": {
      "text/html": [
       "<div>\n",
       "<style scoped>\n",
       "    .dataframe tbody tr th:only-of-type {\n",
       "        vertical-align: middle;\n",
       "    }\n",
       "\n",
       "    .dataframe tbody tr th {\n",
       "        vertical-align: top;\n",
       "    }\n",
       "\n",
       "    .dataframe thead th {\n",
       "        text-align: right;\n",
       "    }\n",
       "</style>\n",
       "<table border=\"1\" class=\"dataframe\">\n",
       "  <thead>\n",
       "    <tr style=\"text-align: right;\">\n",
       "      <th></th>\n",
       "      <th>year</th>\n",
       "      <th>mileage</th>\n",
       "      <th>tax(£)</th>\n",
       "      <th>mpg</th>\n",
       "      <th>engineSize</th>\n",
       "      <th>price</th>\n",
       "    </tr>\n",
       "  </thead>\n",
       "  <tbody>\n",
       "    <tr>\n",
       "      <th>year</th>\n",
       "      <td>1.000000</td>\n",
       "      <td>-0.664617</td>\n",
       "      <td>0.041682</td>\n",
       "      <td>-0.170079</td>\n",
       "      <td>-0.105702</td>\n",
       "      <td>0.520085</td>\n",
       "    </tr>\n",
       "    <tr>\n",
       "      <th>mileage</th>\n",
       "      <td>-0.664617</td>\n",
       "      <td>1.000000</td>\n",
       "      <td>-0.042866</td>\n",
       "      <td>0.155450</td>\n",
       "      <td>0.243540</td>\n",
       "      <td>-0.387616</td>\n",
       "    </tr>\n",
       "    <tr>\n",
       "      <th>tax(£)</th>\n",
       "      <td>0.041682</td>\n",
       "      <td>-0.042866</td>\n",
       "      <td>1.000000</td>\n",
       "      <td>-0.335676</td>\n",
       "      <td>-0.121233</td>\n",
       "      <td>-0.130215</td>\n",
       "    </tr>\n",
       "    <tr>\n",
       "      <th>mpg</th>\n",
       "      <td>-0.170079</td>\n",
       "      <td>0.155450</td>\n",
       "      <td>-0.335676</td>\n",
       "      <td>1.000000</td>\n",
       "      <td>-0.217437</td>\n",
       "      <td>-0.263621</td>\n",
       "    </tr>\n",
       "    <tr>\n",
       "      <th>engineSize</th>\n",
       "      <td>-0.105702</td>\n",
       "      <td>0.243540</td>\n",
       "      <td>-0.121233</td>\n",
       "      <td>-0.217437</td>\n",
       "      <td>1.000000</td>\n",
       "      <td>0.536219</td>\n",
       "    </tr>\n",
       "    <tr>\n",
       "      <th>price</th>\n",
       "      <td>0.520085</td>\n",
       "      <td>-0.387616</td>\n",
       "      <td>-0.130215</td>\n",
       "      <td>-0.263621</td>\n",
       "      <td>0.536219</td>\n",
       "      <td>1.000000</td>\n",
       "    </tr>\n",
       "  </tbody>\n",
       "</table>\n",
       "</div>"
      ],
      "text/plain": [
       "                year   mileage    tax(£)       mpg  engineSize     price\n",
       "year        1.000000 -0.664617  0.041682 -0.170079   -0.105702  0.520085\n",
       "mileage    -0.664617  1.000000 -0.042866  0.155450    0.243540 -0.387616\n",
       "tax(£)      0.041682 -0.042866  1.000000 -0.335676   -0.121233 -0.130215\n",
       "mpg        -0.170079  0.155450 -0.335676  1.000000   -0.217437 -0.263621\n",
       "engineSize -0.105702  0.243540 -0.121233 -0.217437    1.000000  0.536219\n",
       "price       0.520085 -0.387616 -0.130215 -0.263621    0.536219  1.000000"
      ]
     },
     "execution_count": 384,
     "metadata": {},
     "output_type": "execute_result"
    }
   ],
   "source": [
    "y = df.corr()\n",
    "y"
   ]
  },
  {
   "cell_type": "code",
   "execution_count": 385,
   "id": "cf9748a3",
   "metadata": {},
   "outputs": [
    {
     "data": {
      "text/plain": [
       "<AxesSubplot:>"
      ]
     },
     "execution_count": 385,
     "metadata": {},
     "output_type": "execute_result"
    },
    {
     "data": {
      "image/png": "[encoded data removed]",
      "text/plain": [
       "<Figure size 576x432 with 2 Axes>"
      ]
     },
     "metadata": {
      "needs_background": "light"
     },
     "output_type": "display_data"
    }
   ],
   "source": [
    "plt.figure(figsize = (8,6))\n",
    "sns.heatmap(y, annot = True)"
   ]
  },
  {
   "cell_type": "code",
   "execution_count": 386,
   "id": "7cf6c3cb",
   "metadata": {},
   "outputs": [
    {
     "data": {
      "text/html": [
       "<div>\n",
       "<style scoped>\n",
       "    .dataframe tbody tr th:only-of-type {\n",
       "        vertical-align: middle;\n",
       "    }\n",
       "\n",
       "    .dataframe tbody tr th {\n",
       "        vertical-align: top;\n",
       "    }\n",
       "\n",
       "    .dataframe thead th {\n",
       "        text-align: right;\n",
       "    }\n",
       "</style>\n",
       "<table border=\"1\" class=\"dataframe\">\n",
       "  <thead>\n",
       "    <tr style=\"text-align: right;\">\n",
       "      <th></th>\n",
       "      <th>model</th>\n",
       "      <th>year</th>\n",
       "      <th>transmission</th>\n",
       "      <th>mileage</th>\n",
       "      <th>fuelType</th>\n",
       "      <th>tax(£)</th>\n",
       "      <th>mpg</th>\n",
       "      <th>engineSize</th>\n",
       "      <th>price</th>\n",
       "    </tr>\n",
       "  </thead>\n",
       "  <tbody>\n",
       "    <tr>\n",
       "      <th>0</th>\n",
       "      <td>I20</td>\n",
       "      <td>2017</td>\n",
       "      <td>Manual</td>\n",
       "      <td>17307</td>\n",
       "      <td>Petrol</td>\n",
       "      <td>145</td>\n",
       "      <td>58.9</td>\n",
       "      <td>1.2</td>\n",
       "      <td>7999</td>\n",
       "    </tr>\n",
       "    <tr>\n",
       "      <th>4</th>\n",
       "      <td>IX35</td>\n",
       "      <td>2015</td>\n",
       "      <td>Manual</td>\n",
       "      <td>33177</td>\n",
       "      <td>Diesel</td>\n",
       "      <td>160</td>\n",
       "      <td>51.4</td>\n",
       "      <td>2.0</td>\n",
       "      <td>10199</td>\n",
       "    </tr>\n",
       "    <tr>\n",
       "      <th>7</th>\n",
       "      <td>Tucson</td>\n",
       "      <td>2016</td>\n",
       "      <td>Automatic</td>\n",
       "      <td>30300</td>\n",
       "      <td>Diesel</td>\n",
       "      <td>125</td>\n",
       "      <td>57.6</td>\n",
       "      <td>1.7</td>\n",
       "      <td>14199</td>\n",
       "    </tr>\n",
       "    <tr>\n",
       "      <th>8</th>\n",
       "      <td>I30</td>\n",
       "      <td>2018</td>\n",
       "      <td>Automatic</td>\n",
       "      <td>38082</td>\n",
       "      <td>Petrol</td>\n",
       "      <td>145</td>\n",
       "      <td>51.4</td>\n",
       "      <td>1.4</td>\n",
       "      <td>10399</td>\n",
       "    </tr>\n",
       "  </tbody>\n",
       "</table>\n",
       "</div>"
      ],
      "text/plain": [
       "     model  year transmission  mileage fuelType  tax(£)   mpg  engineSize  \\\n",
       "0      I20  2017       Manual    17307   Petrol     145  58.9         1.2   \n",
       "4     IX35  2015       Manual    33177   Diesel     160  51.4         2.0   \n",
       "7   Tucson  2016    Automatic    30300   Diesel     125  57.6         1.7   \n",
       "8      I30  2018    Automatic    38082   Petrol     145  51.4         1.4   \n",
       "\n",
       "   price  \n",
       "0   7999  \n",
       "4  10199  \n",
       "7  14199  \n",
       "8  10399  "
      ]
     },
     "execution_count": 386,
     "metadata": {},
     "output_type": "execute_result"
    }
   ],
   "source": [
    "df.head(4)"
   ]
  },
  {
   "cell_type": "markdown",
   "id": "df3b4b6e",
   "metadata": {},
   "source": [
    "# Drop any unnecessary columns"
   ]
  },
  {
   "cell_type": "code",
   "execution_count": 387,
   "id": "9f0ed37a",
   "metadata": {},
   "outputs": [],
   "source": [
    "df.drop('model',axis = 1,inplace = True)"
   ]
  },
  {
   "cell_type": "code",
   "execution_count": 388,
   "id": "a95bb522",
   "metadata": {},
   "outputs": [
    {
     "data": {
      "text/html": [
       "<div>\n",
       "<style scoped>\n",
       "    .dataframe tbody tr th:only-of-type {\n",
       "        vertical-align: middle;\n",
       "    }\n",
       "\n",
       "    .dataframe tbody tr th {\n",
       "        vertical-align: top;\n",
       "    }\n",
       "\n",
       "    .dataframe thead th {\n",
       "        text-align: right;\n",
       "    }\n",
       "</style>\n",
       "<table border=\"1\" class=\"dataframe\">\n",
       "  <thead>\n",
       "    <tr style=\"text-align: right;\">\n",
       "      <th></th>\n",
       "      <th>year</th>\n",
       "      <th>transmission</th>\n",
       "      <th>mileage</th>\n",
       "      <th>fuelType</th>\n",
       "      <th>tax(£)</th>\n",
       "      <th>mpg</th>\n",
       "      <th>engineSize</th>\n",
       "      <th>price</th>\n",
       "    </tr>\n",
       "  </thead>\n",
       "  <tbody>\n",
       "    <tr>\n",
       "      <th>0</th>\n",
       "      <td>2017</td>\n",
       "      <td>Manual</td>\n",
       "      <td>17307</td>\n",
       "      <td>Petrol</td>\n",
       "      <td>145</td>\n",
       "      <td>58.9</td>\n",
       "      <td>1.2</td>\n",
       "      <td>7999</td>\n",
       "    </tr>\n",
       "    <tr>\n",
       "      <th>4</th>\n",
       "      <td>2015</td>\n",
       "      <td>Manual</td>\n",
       "      <td>33177</td>\n",
       "      <td>Diesel</td>\n",
       "      <td>160</td>\n",
       "      <td>51.4</td>\n",
       "      <td>2.0</td>\n",
       "      <td>10199</td>\n",
       "    </tr>\n",
       "    <tr>\n",
       "      <th>7</th>\n",
       "      <td>2016</td>\n",
       "      <td>Automatic</td>\n",
       "      <td>30300</td>\n",
       "      <td>Diesel</td>\n",
       "      <td>125</td>\n",
       "      <td>57.6</td>\n",
       "      <td>1.7</td>\n",
       "      <td>14199</td>\n",
       "    </tr>\n",
       "    <tr>\n",
       "      <th>8</th>\n",
       "      <td>2018</td>\n",
       "      <td>Automatic</td>\n",
       "      <td>38082</td>\n",
       "      <td>Petrol</td>\n",
       "      <td>145</td>\n",
       "      <td>51.4</td>\n",
       "      <td>1.4</td>\n",
       "      <td>10399</td>\n",
       "    </tr>\n",
       "    <tr>\n",
       "      <th>10</th>\n",
       "      <td>2017</td>\n",
       "      <td>Manual</td>\n",
       "      <td>22888</td>\n",
       "      <td>Diesel</td>\n",
       "      <td>150</td>\n",
       "      <td>61.7</td>\n",
       "      <td>1.7</td>\n",
       "      <td>13200</td>\n",
       "    </tr>\n",
       "    <tr>\n",
       "      <th>...</th>\n",
       "      <td>...</td>\n",
       "      <td>...</td>\n",
       "      <td>...</td>\n",
       "      <td>...</td>\n",
       "      <td>...</td>\n",
       "      <td>...</td>\n",
       "      <td>...</td>\n",
       "      <td>...</td>\n",
       "    </tr>\n",
       "    <tr>\n",
       "      <th>4850</th>\n",
       "      <td>2018</td>\n",
       "      <td>Manual</td>\n",
       "      <td>17879</td>\n",
       "      <td>Petrol</td>\n",
       "      <td>145</td>\n",
       "      <td>60.1</td>\n",
       "      <td>1.0</td>\n",
       "      <td>7200</td>\n",
       "    </tr>\n",
       "    <tr>\n",
       "      <th>4851</th>\n",
       "      <td>2018</td>\n",
       "      <td>Manual</td>\n",
       "      <td>8851</td>\n",
       "      <td>Petrol</td>\n",
       "      <td>145</td>\n",
       "      <td>60.1</td>\n",
       "      <td>1.0</td>\n",
       "      <td>7995</td>\n",
       "    </tr>\n",
       "    <tr>\n",
       "      <th>4852</th>\n",
       "      <td>2018</td>\n",
       "      <td>Manual</td>\n",
       "      <td>14788</td>\n",
       "      <td>Petrol</td>\n",
       "      <td>150</td>\n",
       "      <td>60.1</td>\n",
       "      <td>1.0</td>\n",
       "      <td>7200</td>\n",
       "    </tr>\n",
       "    <tr>\n",
       "      <th>4858</th>\n",
       "      <td>2018</td>\n",
       "      <td>Manual</td>\n",
       "      <td>23313</td>\n",
       "      <td>Petrol</td>\n",
       "      <td>145</td>\n",
       "      <td>44.8</td>\n",
       "      <td>1.6</td>\n",
       "      <td>13994</td>\n",
       "    </tr>\n",
       "    <tr>\n",
       "      <th>4859</th>\n",
       "      <td>2016</td>\n",
       "      <td>Automatic</td>\n",
       "      <td>11472</td>\n",
       "      <td>Diesel</td>\n",
       "      <td>125</td>\n",
       "      <td>57.6</td>\n",
       "      <td>1.7</td>\n",
       "      <td>15999</td>\n",
       "    </tr>\n",
       "  </tbody>\n",
       "</table>\n",
       "<p>3283 rows × 8 columns</p>\n",
       "</div>"
      ],
      "text/plain": [
       "      year transmission  mileage fuelType  tax(£)   mpg  engineSize  price\n",
       "0     2017       Manual    17307   Petrol     145  58.9         1.2   7999\n",
       "4     2015       Manual    33177   Diesel     160  51.4         2.0  10199\n",
       "7     2016    Automatic    30300   Diesel     125  57.6         1.7  14199\n",
       "8     2018    Automatic    38082   Petrol     145  51.4         1.4  10399\n",
       "10    2017       Manual    22888   Diesel     150  61.7         1.7  13200\n",
       "...    ...          ...      ...      ...     ...   ...         ...    ...\n",
       "4850  2018       Manual    17879   Petrol     145  60.1         1.0   7200\n",
       "4851  2018       Manual     8851   Petrol     145  60.1         1.0   7995\n",
       "4852  2018       Manual    14788   Petrol     150  60.1         1.0   7200\n",
       "4858  2018       Manual    23313   Petrol     145  44.8         1.6  13994\n",
       "4859  2016    Automatic    11472   Diesel     125  57.6         1.7  15999\n",
       "\n",
       "[3283 rows x 8 columns]"
      ]
     },
     "execution_count": 388,
     "metadata": {},
     "output_type": "execute_result"
    }
   ],
   "source": [
    "df"
   ]
  },
  {
   "cell_type": "code",
   "execution_count": 389,
   "id": "f5ded25c",
   "metadata": {},
   "outputs": [
    {
     "name": "stdout",
     "output_type": "stream",
     "text": [
      "['Manual' 'Automatic' 'Semi-Auto' 'Other'] \n",
      "\n",
      "\n",
      "['Petrol' 'Diesel' 'Hybrid' 'Other'] \n",
      "\n",
      "\n"
     ]
    }
   ],
   "source": [
    "for i in df.columns:\n",
    "    if df[i].dtypes == object:\n",
    "        print(df[i].unique() ,'\\n\\n')"
   ]
  },
  {
   "cell_type": "markdown",
   "id": "d401afe4",
   "metadata": {},
   "source": [
    "# Split into train and test set"
   ]
  },
  {
   "cell_type": "code",
   "execution_count": 390,
   "id": "27be33d9",
   "metadata": {},
   "outputs": [],
   "source": [
    "from sklearn.preprocessing import LabelEncoder"
   ]
  },
  {
   "cell_type": "code",
   "execution_count": 391,
   "id": "aeb2e72a",
   "metadata": {},
   "outputs": [],
   "source": [
    "le = LabelEncoder()"
   ]
  },
  {
   "cell_type": "code",
   "execution_count": 392,
   "id": "184d04ce",
   "metadata": {},
   "outputs": [],
   "source": [
    "for i in df.columns:\n",
    "    if df[i].dtypes == object:\n",
    "        df[i] = le.fit_transform(df[i])"
   ]
  },
  {
   "cell_type": "code",
   "execution_count": 393,
   "id": "799794ee",
   "metadata": {},
   "outputs": [
    {
     "data": {
      "text/html": [
       "<div>\n",
       "<style scoped>\n",
       "    .dataframe tbody tr th:only-of-type {\n",
       "        vertical-align: middle;\n",
       "    }\n",
       "\n",
       "    .dataframe tbody tr th {\n",
       "        vertical-align: top;\n",
       "    }\n",
       "\n",
       "    .dataframe thead th {\n",
       "        text-align: right;\n",
       "    }\n",
       "</style>\n",
       "<table border=\"1\" class=\"dataframe\">\n",
       "  <thead>\n",
       "    <tr style=\"text-align: right;\">\n",
       "      <th></th>\n",
       "      <th>year</th>\n",
       "      <th>transmission</th>\n",
       "      <th>mileage</th>\n",
       "      <th>fuelType</th>\n",
       "      <th>tax(£)</th>\n",
       "      <th>mpg</th>\n",
       "      <th>engineSize</th>\n",
       "      <th>price</th>\n",
       "    </tr>\n",
       "  </thead>\n",
       "  <tbody>\n",
       "    <tr>\n",
       "      <th>0</th>\n",
       "      <td>2017</td>\n",
       "      <td>1</td>\n",
       "      <td>17307</td>\n",
       "      <td>3</td>\n",
       "      <td>145</td>\n",
       "      <td>58.9</td>\n",
       "      <td>1.2</td>\n",
       "      <td>7999</td>\n",
       "    </tr>\n",
       "    <tr>\n",
       "      <th>4</th>\n",
       "      <td>2015</td>\n",
       "      <td>1</td>\n",
       "      <td>33177</td>\n",
       "      <td>0</td>\n",
       "      <td>160</td>\n",
       "      <td>51.4</td>\n",
       "      <td>2.0</td>\n",
       "      <td>10199</td>\n",
       "    </tr>\n",
       "    <tr>\n",
       "      <th>7</th>\n",
       "      <td>2016</td>\n",
       "      <td>0</td>\n",
       "      <td>30300</td>\n",
       "      <td>0</td>\n",
       "      <td>125</td>\n",
       "      <td>57.6</td>\n",
       "      <td>1.7</td>\n",
       "      <td>14199</td>\n",
       "    </tr>\n",
       "    <tr>\n",
       "      <th>8</th>\n",
       "      <td>2018</td>\n",
       "      <td>0</td>\n",
       "      <td>38082</td>\n",
       "      <td>3</td>\n",
       "      <td>145</td>\n",
       "      <td>51.4</td>\n",
       "      <td>1.4</td>\n",
       "      <td>10399</td>\n",
       "    </tr>\n",
       "    <tr>\n",
       "      <th>10</th>\n",
       "      <td>2017</td>\n",
       "      <td>1</td>\n",
       "      <td>22888</td>\n",
       "      <td>0</td>\n",
       "      <td>150</td>\n",
       "      <td>61.7</td>\n",
       "      <td>1.7</td>\n",
       "      <td>13200</td>\n",
       "    </tr>\n",
       "    <tr>\n",
       "      <th>...</th>\n",
       "      <td>...</td>\n",
       "      <td>...</td>\n",
       "      <td>...</td>\n",
       "      <td>...</td>\n",
       "      <td>...</td>\n",
       "      <td>...</td>\n",
       "      <td>...</td>\n",
       "      <td>...</td>\n",
       "    </tr>\n",
       "    <tr>\n",
       "      <th>4850</th>\n",
       "      <td>2018</td>\n",
       "      <td>1</td>\n",
       "      <td>17879</td>\n",
       "      <td>3</td>\n",
       "      <td>145</td>\n",
       "      <td>60.1</td>\n",
       "      <td>1.0</td>\n",
       "      <td>7200</td>\n",
       "    </tr>\n",
       "    <tr>\n",
       "      <th>4851</th>\n",
       "      <td>2018</td>\n",
       "      <td>1</td>\n",
       "      <td>8851</td>\n",
       "      <td>3</td>\n",
       "      <td>145</td>\n",
       "      <td>60.1</td>\n",
       "      <td>1.0</td>\n",
       "      <td>7995</td>\n",
       "    </tr>\n",
       "    <tr>\n",
       "      <th>4852</th>\n",
       "      <td>2018</td>\n",
       "      <td>1</td>\n",
       "      <td>14788</td>\n",
       "      <td>3</td>\n",
       "      <td>150</td>\n",
       "      <td>60.1</td>\n",
       "      <td>1.0</td>\n",
       "      <td>7200</td>\n",
       "    </tr>\n",
       "    <tr>\n",
       "      <th>4858</th>\n",
       "      <td>2018</td>\n",
       "      <td>1</td>\n",
       "      <td>23313</td>\n",
       "      <td>3</td>\n",
       "      <td>145</td>\n",
       "      <td>44.8</td>\n",
       "      <td>1.6</td>\n",
       "      <td>13994</td>\n",
       "    </tr>\n",
       "    <tr>\n",
       "      <th>4859</th>\n",
       "      <td>2016</td>\n",
       "      <td>0</td>\n",
       "      <td>11472</td>\n",
       "      <td>0</td>\n",
       "      <td>125</td>\n",
       "      <td>57.6</td>\n",
       "      <td>1.7</td>\n",
       "      <td>15999</td>\n",
       "    </tr>\n",
       "  </tbody>\n",
       "</table>\n",
       "<p>3283 rows × 8 columns</p>\n",
       "</div>"
      ],
      "text/plain": [
       "      year  transmission  mileage  fuelType  tax(£)   mpg  engineSize  price\n",
       "0     2017             1    17307         3     145  58.9         1.2   7999\n",
       "4     2015             1    33177         0     160  51.4         2.0  10199\n",
       "7     2016             0    30300         0     125  57.6         1.7  14199\n",
       "8     2018             0    38082         3     145  51.4         1.4  10399\n",
       "10    2017             1    22888         0     150  61.7         1.7  13200\n",
       "...    ...           ...      ...       ...     ...   ...         ...    ...\n",
       "4850  2018             1    17879         3     145  60.1         1.0   7200\n",
       "4851  2018             1     8851         3     145  60.1         1.0   7995\n",
       "4852  2018             1    14788         3     150  60.1         1.0   7200\n",
       "4858  2018             1    23313         3     145  44.8         1.6  13994\n",
       "4859  2016             0    11472         0     125  57.6         1.7  15999\n",
       "\n",
       "[3283 rows x 8 columns]"
      ]
     },
     "execution_count": 393,
     "metadata": {},
     "output_type": "execute_result"
    }
   ],
   "source": [
    "df"
   ]
  },
  {
   "cell_type": "code",
   "execution_count": 394,
   "id": "a17bcad9",
   "metadata": {},
   "outputs": [],
   "source": [
    "x = df.iloc[:,:-1].values"
   ]
  },
  {
   "cell_type": "code",
   "execution_count": 395,
   "id": "62399a5e",
   "metadata": {},
   "outputs": [],
   "source": [
    "y = df.iloc[:,-1].values"
   ]
  },
  {
   "cell_type": "code",
   "execution_count": 396,
   "id": "47e6337e",
   "metadata": {},
   "outputs": [],
   "source": [
    "from sklearn.model_selection import train_test_split"
   ]
  },
  {
   "cell_type": "code",
   "execution_count": 397,
   "id": "7bdaf665",
   "metadata": {},
   "outputs": [],
   "source": [
    "x_train,x_test,y_train,y_test = train_test_split(x,y,test_size = 0.2 ,random_state = 2)"
   ]
  },
  {
   "cell_type": "code",
   "execution_count": 398,
   "id": "6dbb4a19",
   "metadata": {},
   "outputs": [],
   "source": [
    "# from sklearn.preprocessing import StandardScaler"
   ]
  },
  {
   "cell_type": "code",
   "execution_count": 399,
   "id": "a00410ae",
   "metadata": {},
   "outputs": [],
   "source": [
    "# sc = StandardScaler()"
   ]
  },
  {
   "cell_type": "code",
   "execution_count": 400,
   "id": "d9f6ae1f",
   "metadata": {},
   "outputs": [],
   "source": [
    "# x_train = sc.fit_transform(x_train)"
   ]
  },
  {
   "cell_type": "code",
   "execution_count": 401,
   "id": "3f3fc9b6",
   "metadata": {},
   "outputs": [],
   "source": [
    "# x_test = sc.fit_transform(x_test)"
   ]
  },
  {
   "cell_type": "markdown",
   "id": "87ea2de2",
   "metadata": {},
   "source": [
    "# Making Model Using Linear regression"
   ]
  },
  {
   "cell_type": "code",
   "execution_count": 402,
   "id": "2b20f38d",
   "metadata": {},
   "outputs": [],
   "source": [
    "# from sklearn.linear_model import LinearRegression"
   ]
  },
  {
   "cell_type": "code",
   "execution_count": 403,
   "id": "6ba0531c",
   "metadata": {},
   "outputs": [],
   "source": [
    "# reg = LinearRegression()"
   ]
  },
  {
   "cell_type": "code",
   "execution_count": 404,
   "id": "bd186d0e",
   "metadata": {},
   "outputs": [],
   "source": [
    "# reg.fit(x_train,y_train)"
   ]
  },
  {
   "cell_type": "code",
   "execution_count": 405,
   "id": "7de103c9",
   "metadata": {},
   "outputs": [],
   "source": [
    "# reg.intercept_"
   ]
  },
  {
   "cell_type": "code",
   "execution_count": 406,
   "id": "6e532474",
   "metadata": {},
   "outputs": [],
   "source": [
    "# reg.coef_"
   ]
  },
  {
   "cell_type": "code",
   "execution_count": 407,
   "id": "8e578c86",
   "metadata": {},
   "outputs": [],
   "source": [
    "# y_pred = reg.predict(x_test)"
   ]
  },
  {
   "cell_type": "code",
   "execution_count": 408,
   "id": "b14858fb",
   "metadata": {},
   "outputs": [],
   "source": [
    "# from sklearn.metrics import mean_squared_error"
   ]
  },
  {
   "cell_type": "code",
   "execution_count": 409,
   "id": "bd0c04c5",
   "metadata": {},
   "outputs": [],
   "source": [
    "# mean_squared_error(y_test,y_pred)"
   ]
  },
  {
   "cell_type": "code",
   "execution_count": null,
   "id": "e3032b90",
   "metadata": {},
   "outputs": [],
   "source": []
  },
  {
   "cell_type": "code",
   "execution_count": 410,
   "id": "f6e0cffd",
   "metadata": {},
   "outputs": [],
   "source": [
    "# from sklearn.metrics import r2_score"
   ]
  },
  {
   "cell_type": "code",
   "execution_count": 411,
   "id": "da2283fa",
   "metadata": {},
   "outputs": [
    {
     "data": {
      "text/plain": [
       "0.6824680959088425"
      ]
     },
     "execution_count": 411,
     "metadata": {},
     "output_type": "execute_result"
    }
   ],
   "source": [
    "# LRM = r2_score(y_test,y_pred)\n",
    "LRM"
   ]
  },
  {
   "cell_type": "markdown",
   "id": "b0195393",
   "metadata": {},
   "source": [
    "# Decision Tree "
   ]
  },
  {
   "cell_type": "code",
   "execution_count": 430,
   "id": "9c76d03c",
   "metadata": {},
   "outputs": [
    {
     "data": {
      "text/plain": [
       "array([[2.0170e+03, 1.0000e+00, 1.7307e+04, ..., 1.4500e+02, 5.8900e+01,\n",
       "        1.2000e+00],\n",
       "       [2.0150e+03, 1.0000e+00, 3.3177e+04, ..., 1.6000e+02, 5.1400e+01,\n",
       "        2.0000e+00],\n",
       "       [2.0160e+03, 0.0000e+00, 3.0300e+04, ..., 1.2500e+02, 5.7600e+01,\n",
       "        1.7000e+00],\n",
       "       ...,\n",
       "       [2.0180e+03, 1.0000e+00, 1.4788e+04, ..., 1.5000e+02, 6.0100e+01,\n",
       "        1.0000e+00],\n",
       "       [2.0180e+03, 1.0000e+00, 2.3313e+04, ..., 1.4500e+02, 4.4800e+01,\n",
       "        1.6000e+00],\n",
       "       [2.0160e+03, 0.0000e+00, 1.1472e+04, ..., 1.2500e+02, 5.7600e+01,\n",
       "        1.7000e+00]])"
      ]
     },
     "execution_count": 430,
     "metadata": {},
     "output_type": "execute_result"
    }
   ],
   "source": [
    "x = df.drop('price',axis = 1).values\n",
    "x"
   ]
  },
  {
   "cell_type": "code",
   "execution_count": 431,
   "id": "9d58ac88",
   "metadata": {},
   "outputs": [
    {
     "data": {
      "text/plain": [
       "array([ 7999, 10199, 14199, ...,  7200, 13994, 15999], dtype=int64)"
      ]
     },
     "execution_count": 431,
     "metadata": {},
     "output_type": "execute_result"
    }
   ],
   "source": [
    "y = df['price'].values\n",
    "y"
   ]
  },
  {
   "cell_type": "code",
   "execution_count": 432,
   "id": "26e1d3ce",
   "metadata": {},
   "outputs": [],
   "source": [
    "x_train,x_test,y_train,y_test = train_test_split(x,y,test_size = 0.2 , random_state = 2)"
   ]
  },
  {
   "cell_type": "code",
   "execution_count": 433,
   "id": "f565a1fe",
   "metadata": {},
   "outputs": [],
   "source": [
    "from sklearn.tree import DecisionTreeClassifier"
   ]
  },
  {
   "cell_type": "code",
   "execution_count": 434,
   "id": "44e50de2",
   "metadata": {},
   "outputs": [],
   "source": [
    "dc = DecisionTreeClassifier()"
   ]
  },
  {
   "cell_type": "code",
   "execution_count": 435,
   "id": "c6d2eee5",
   "metadata": {},
   "outputs": [
    {
     "data": {
      "text/plain": [
       "DecisionTreeClassifier()"
      ]
     },
     "execution_count": 435,
     "metadata": {},
     "output_type": "execute_result"
    }
   ],
   "source": [
    "dc.fit(x_train , y_train)"
   ]
  },
  {
   "cell_type": "code",
   "execution_count": 436,
   "id": "ff96be5f",
   "metadata": {},
   "outputs": [],
   "source": [
    "y_pred = dc.predict(x_test)"
   ]
  },
  {
   "cell_type": "code",
   "execution_count": 437,
   "id": "a6585b0e",
   "metadata": {},
   "outputs": [
    {
     "data": {
      "text/html": [
       "<div>\n",
       "<style scoped>\n",
       "    .dataframe tbody tr th:only-of-type {\n",
       "        vertical-align: middle;\n",
       "    }\n",
       "\n",
       "    .dataframe tbody tr th {\n",
       "        vertical-align: top;\n",
       "    }\n",
       "\n",
       "    .dataframe thead th {\n",
       "        text-align: right;\n",
       "    }\n",
       "</style>\n",
       "<table border=\"1\" class=\"dataframe\">\n",
       "  <thead>\n",
       "    <tr style=\"text-align: right;\">\n",
       "      <th></th>\n",
       "      <th>year</th>\n",
       "      <th>transmission</th>\n",
       "      <th>mileage</th>\n",
       "      <th>fuelType</th>\n",
       "      <th>tax(£)</th>\n",
       "      <th>mpg</th>\n",
       "      <th>engineSize</th>\n",
       "      <th>price</th>\n",
       "    </tr>\n",
       "  </thead>\n",
       "  <tbody>\n",
       "    <tr>\n",
       "      <th>0</th>\n",
       "      <td>2017</td>\n",
       "      <td>1</td>\n",
       "      <td>17307</td>\n",
       "      <td>3</td>\n",
       "      <td>145</td>\n",
       "      <td>58.9</td>\n",
       "      <td>1.2</td>\n",
       "      <td>7999</td>\n",
       "    </tr>\n",
       "    <tr>\n",
       "      <th>4</th>\n",
       "      <td>2015</td>\n",
       "      <td>1</td>\n",
       "      <td>33177</td>\n",
       "      <td>0</td>\n",
       "      <td>160</td>\n",
       "      <td>51.4</td>\n",
       "      <td>2.0</td>\n",
       "      <td>10199</td>\n",
       "    </tr>\n",
       "  </tbody>\n",
       "</table>\n",
       "</div>"
      ],
      "text/plain": [
       "   year  transmission  mileage  fuelType  tax(£)   mpg  engineSize  price\n",
       "0  2017             1    17307         3     145  58.9         1.2   7999\n",
       "4  2015             1    33177         0     160  51.4         2.0  10199"
      ]
     },
     "execution_count": 437,
     "metadata": {},
     "output_type": "execute_result"
    }
   ],
   "source": [
    "df.head(2)"
   ]
  },
  {
   "cell_type": "code",
   "execution_count": 438,
   "id": "c7b6f95e",
   "metadata": {},
   "outputs": [
    {
     "data": {
      "text/plain": [
       "array([[0, 0, 1, ..., 0, 0, 0],\n",
       "       [0, 0, 0, ..., 0, 0, 0],\n",
       "       [0, 0, 0, ..., 0, 0, 0],\n",
       "       ...,\n",
       "       [0, 0, 0, ..., 0, 0, 0],\n",
       "       [0, 0, 0, ..., 0, 0, 0],\n",
       "       [0, 0, 0, ..., 0, 0, 0]], dtype=int64)"
      ]
     },
     "execution_count": 438,
     "metadata": {},
     "output_type": "execute_result"
    }
   ],
   "source": [
    "confusion_matrix(y_test,y_pred)"
   ]
  },
  {
   "cell_type": "code",
   "execution_count": 439,
   "id": "a65f9d32",
   "metadata": {},
   "outputs": [],
   "source": [
    "from sklearn.metrics import accuracy_score"
   ]
  },
  {
   "cell_type": "code",
   "execution_count": 440,
   "id": "7ba30f33",
   "metadata": {},
   "outputs": [
    {
     "data": {
      "text/plain": [
       "0.0578386605783866"
      ]
     },
     "execution_count": 440,
     "metadata": {},
     "output_type": "execute_result"
    }
   ],
   "source": [
    "accuracy_score(y_test,y_pred)"
   ]
  },
  {
   "cell_type": "markdown",
   "id": "4ba42417",
   "metadata": {},
   "source": [
    "# Random Forest"
   ]
  },
  {
   "cell_type": "code",
   "execution_count": 441,
   "id": "931fb2a6",
   "metadata": {},
   "outputs": [
    {
     "data": {
      "text/plain": [
       "array([[2.0170e+03, 1.0000e+00, 1.7307e+04, ..., 1.4500e+02, 5.8900e+01,\n",
       "        1.2000e+00],\n",
       "       [2.0150e+03, 1.0000e+00, 3.3177e+04, ..., 1.6000e+02, 5.1400e+01,\n",
       "        2.0000e+00],\n",
       "       [2.0160e+03, 0.0000e+00, 3.0300e+04, ..., 1.2500e+02, 5.7600e+01,\n",
       "        1.7000e+00],\n",
       "       ...,\n",
       "       [2.0180e+03, 1.0000e+00, 1.4788e+04, ..., 1.5000e+02, 6.0100e+01,\n",
       "        1.0000e+00],\n",
       "       [2.0180e+03, 1.0000e+00, 2.3313e+04, ..., 1.4500e+02, 4.4800e+01,\n",
       "        1.6000e+00],\n",
       "       [2.0160e+03, 0.0000e+00, 1.1472e+04, ..., 1.2500e+02, 5.7600e+01,\n",
       "        1.7000e+00]])"
      ]
     },
     "execution_count": 441,
     "metadata": {},
     "output_type": "execute_result"
    }
   ],
   "source": [
    "x = df.drop('price',axis = 1).values\n",
    "x"
   ]
  },
  {
   "cell_type": "code",
   "execution_count": 442,
   "id": "b27a53ea",
   "metadata": {},
   "outputs": [
    {
     "data": {
      "text/plain": [
       "array([ 7999, 10199, 14199, ...,  7200, 13994, 15999], dtype=int64)"
      ]
     },
     "execution_count": 442,
     "metadata": {},
     "output_type": "execute_result"
    }
   ],
   "source": [
    "y = df['price'].values\n",
    "y"
   ]
  },
  {
   "cell_type": "code",
   "execution_count": 443,
   "id": "8863e888",
   "metadata": {},
   "outputs": [
    {
     "data": {
      "text/plain": [
       "array([[2.0180e+03, 1.0000e+00, 4.9090e+03, ..., 1.5000e+02, 5.0400e+01,\n",
       "        1.4000e+00],\n",
       "       [2.0180e+03, 1.0000e+00, 1.9000e+01, ..., 1.4500e+02, 4.4100e+01,\n",
       "        1.0000e+00],\n",
       "       [2.0180e+03, 3.0000e+00, 2.8851e+04, ..., 1.5000e+02, 5.1400e+01,\n",
       "        1.4000e+00],\n",
       "       ...,\n",
       "       [2.0170e+03, 1.0000e+00, 1.7475e+04, ..., 1.4500e+02, 6.1700e+01,\n",
       "        1.7000e+00],\n",
       "       [2.0190e+03, 0.0000e+00, 5.5000e+03, ..., 1.3500e+02, 7.8500e+01,\n",
       "        1.6000e+00],\n",
       "       [2.0150e+03, 1.0000e+00, 2.9660e+04, ..., 1.6000e+02, 4.4800e+01,\n",
       "        1.6000e+00]])"
      ]
     },
     "execution_count": 443,
     "metadata": {},
     "output_type": "execute_result"
    }
   ],
   "source": [
    "x_train"
   ]
  },
  {
   "cell_type": "code",
   "execution_count": 444,
   "id": "8aba521e",
   "metadata": {},
   "outputs": [
    {
     "data": {
      "text/plain": [
       "array([10250, 17495, 12790, ..., 13991, 23991, 10795], dtype=int64)"
      ]
     },
     "execution_count": 444,
     "metadata": {},
     "output_type": "execute_result"
    }
   ],
   "source": [
    "y_train "
   ]
  },
  {
   "cell_type": "code",
   "execution_count": 445,
   "id": "233acb11",
   "metadata": {},
   "outputs": [
    {
     "data": {
      "text/plain": [
       "array([10250, 17495, 12790, ..., 13991, 23991, 10795], dtype=int64)"
      ]
     },
     "execution_count": 445,
     "metadata": {},
     "output_type": "execute_result"
    }
   ],
   "source": [
    "y_train"
   ]
  },
  {
   "cell_type": "code",
   "execution_count": 446,
   "id": "7a78a2cf",
   "metadata": {},
   "outputs": [
    {
     "data": {
      "text/plain": [
       "array([19500, 13871, 15995,  8495, 14250, 10295, 18195,  8990,  5992,\n",
       "       10080, 13995, 22000, 22720, 14470, 20998, 15499, 17990, 11498,\n",
       "       15995, 10995,  7495, 17680, 13850, 23995, 15995,  8990, 16995,\n",
       "        8495, 19995, 15992, 16990,  7998, 12750, 18843,  9690, 18395,\n",
       "       10995, 13985,  6800, 15498, 10998,  8493, 13490,  7495, 13790,\n",
       "        7484,  8291,  7433,  9460, 12498, 10349, 21985, 25980, 10250,\n",
       "       12249, 20990, 20495, 13499,  6985,  8690, 16000, 11240,  9299,\n",
       "        9490, 13995,  7298, 10995, 11200,  7998, 15498,  8995, 18981,\n",
       "       12769,  7100, 23991, 22990, 12470, 12000, 21795, 17490, 19489,\n",
       "       13995, 15000,  6950,  8991, 14750,  5989, 16295,  6240, 11741,\n",
       "       10987, 17750, 23500, 15700,  8189, 13969,  7499, 14430, 14995,\n",
       "       14495, 13591, 13960,  6998, 17998, 20991,  9491,  8000,  7490,\n",
       "        6798,  5790,  7750, 22480,  6995, 26000, 14747, 15040, 13999,\n",
       "       18695,  7995, 21000, 14998, 19981, 15000, 12995, 10120, 14500,\n",
       "       12400,  9494, 15499, 15445,  9650,  8995, 10590, 11990, 12825,\n",
       "       12998,  7830, 14750, 15692, 18495, 16500, 11298,  8990, 16395,\n",
       "       11000,  9491,  8690,  7998,  8490, 12000, 22495,  7985,  9890,\n",
       "       10690, 16000, 17495, 15998,  8795,  9970,  7900,  9500, 23991,\n",
       "       10485, 18570, 18500, 11000, 25999, 13510,  9995,  6000,  8300,\n",
       "        8500, 14950, 22000, 14990, 10700, 12000, 15229, 13495, 21999,\n",
       "        6766, 16990, 14794,  9495, 16299, 17000, 22969, 15698, 14998,\n",
       "       16995, 14495, 17000, 17750,  9500,  6495, 14245, 14485,  6698,\n",
       "       17999,  7495,  7685, 21995, 10699, 17495,  8399, 10100, 21891,\n",
       "       25195,  7497, 13999, 13798,  8000, 11800,  6795, 18299, 14499,\n",
       "       11491, 19995, 19000,  7899,  7120,  9498,  9250, 17899,  6989,\n",
       "       20990, 17298,  8500,  7495, 13980, 13480, 15498,  7990, 14100,\n",
       "       22995, 23000, 11485, 15498, 16786,  8660,  9633, 14998, 14299,\n",
       "       11000, 11998, 22989, 16280, 16995, 14025, 17995,  9295, 10985,\n",
       "       11500, 11795, 15995,  6795, 14495, 19995,  9521, 17695, 15999,\n",
       "       13830,  7595, 16250, 14499, 11698, 13369, 12495,  8790, 14998,\n",
       "       13799,  7658, 15995, 17700, 15798,  9530, 17350, 15995, 15700,\n",
       "        7495, 23991,  7990, 16999, 13200,  8999, 14000, 10498,  7698,\n",
       "       16973, 14995, 13498,  7695,  8998,  8280,  9890,  8750, 14590,\n",
       "       14550, 18480, 14995,  7200, 16800, 14498, 15595,  8295,  7298,\n",
       "       10981, 17234,  8000,  7000, 22995,  7180, 14250, 18990, 11990,\n",
       "        9525, 15498, 20250,  8500,  8300, 13985, 18867, 23995,  9699,\n",
       "       15498, 13095, 24749, 22495,  8100, 15790, 10495,  7298, 15989,\n",
       "       11780, 15270, 14640, 15691, 18480, 25995, 22969,  7990, 13147,\n",
       "       20995, 11985,  7530, 12549, 16390, 14498, 16996,  7400,  9499,\n",
       "       21995, 18695, 15190, 14400, 21999, 18995, 11799,  8000, 18500,\n",
       "       15732, 16990, 16495, 19000, 19850, 10654, 16199, 16995, 12998,\n",
       "       19899, 12495, 15998,  9995, 16929, 12000,  7699,  9999,  8895,\n",
       "        9995,  8750, 17298,  8298, 15500,  9491,  8690,  7995, 10785,\n",
       "       13698,  7099,  6991, 17980,  7499,  7485, 15998,  9499, 15109,\n",
       "       11990, 17999, 13200, 25499,  5498, 26290, 25715, 22989,  6999,\n",
       "       13950, 15280,  7740, 16457,  7498,  7745, 13480, 27800,  7924,\n",
       "       18395,  6504,  7498,  8490, 13495, 10999, 11699,  7798, 10698,\n",
       "       13799,  9370, 11500,  7150,  8190, 12490,  8290, 20995, 16394,\n",
       "       10990, 13475,  6844,  8855, 17500,  7499, 17999,  7699,  8495,\n",
       "       22895, 12395, 21795, 15949, 10699, 10775, 23991, 13998,  8000,\n",
       "        9000,  8500, 12450, 20000, 13500, 16590, 16995, 14795, 13995,\n",
       "        6797,  6999, 15498, 14800,  6990, 18990,  9781, 14498, 15995,\n",
       "        9297,  9995,  6795, 21000, 10495, 16995, 15498,  7998, 15990,\n",
       "       17749,  7999, 23991, 10970, 17870, 13920, 13751,  7491, 15980,\n",
       "        8970,  7499, 13491, 16499, 19995, 13498, 14995,  6660, 17495,\n",
       "        7998,  8995, 13709,  9995,  8995,  7291, 16998,  8880, 14195,\n",
       "       13000, 11199,  7498,  8298,  7259,  6000, 14985, 13690, 17995,\n",
       "       11495, 16500,  7695, 13966, 15169, 19099, 19490, 14550,  7656,\n",
       "       12795,  9998, 19798,  9985, 12000,  7281, 10247, 16000, 13495,\n",
       "       14499, 13970, 12495,  8290, 14682, 14798,  9445, 12599, 14499,\n",
       "       22680,  8990, 12498, 15498, 14490,  7490, 14990,  8000,  9770,\n",
       "        9495, 17299, 15498,  9495, 17995,  9298, 16922, 15691, 16401,\n",
       "       10970, 16498,  9295, 13985,  7622,  7291, 21990, 14998, 12890,\n",
       "        6498, 11260, 13500, 11365, 24990, 13100, 13980, 15990, 12995,\n",
       "       13399, 18414, 26990,  8750, 17999, 15499,  8498, 23995, 19998,\n",
       "       12498, 16500, 20495, 12495,  9995, 13500, 15498,  6800, 21495,\n",
       "       15600, 18495,  7040, 13789, 17495, 14690,  8495,  5590,  9398,\n",
       "       16998, 21490, 10995, 12985, 13495, 22020, 12769, 15795,  8295,\n",
       "       10485, 25995,  8999,  8495, 23000,  8998, 15298, 10290, 17750,\n",
       "       17650,  7995,  6750,  7995, 12495, 17295, 13995, 21995,  8498,\n",
       "       15495,  8690, 14298, 23000,  7465, 24295,  7298, 13989, 14900,\n",
       "       14678,  7259, 10733, 15314, 12750, 12490,  7500, 21000,  9990,\n",
       "       26990, 15280, 10500, 23000, 10399, 16995,  9250, 19995, 14500],\n",
       "      dtype=int64)"
      ]
     },
     "execution_count": 446,
     "metadata": {},
     "output_type": "execute_result"
    }
   ],
   "source": [
    "y_test"
   ]
  },
  {
   "cell_type": "markdown",
   "id": "1416fbc5",
   "metadata": {},
   "source": [
    "Hyperparameter training"
   ]
  },
  {
   "cell_type": "code",
   "execution_count": 447,
   "id": "2a9553ad",
   "metadata": {},
   "outputs": [],
   "source": [
    "no_of_decision_trees = [10,20,30,40,50,60,70,80]\n",
    "max_no_of_features = ['sqrt','log2',90,100]\n",
    "max_depth_of_decision_tree = [6,7,8,9,10,11,12,13,14,15]\n",
    "criterion_for_decision_trees = ['gini','empathy']\n",
    "min_sample_split = [1,2,3,4,5]"
   ]
  },
  {
   "cell_type": "code",
   "execution_count": 448,
   "id": "0fe4570e",
   "metadata": {},
   "outputs": [],
   "source": [
    "random_grid={\n",
    "    'n_estimators': no_of_decision_trees,\n",
    "    'max_features': max_no_of_features,\n",
    "    'max_depth': max_depth_of_decision_tree,\n",
    "    'criterion': criterion_for_decision_trees,\n",
    "    'min_samples_split': min_sample_split\n",
    "}"
   ]
  },
  {
   "cell_type": "code",
   "execution_count": 449,
   "id": "3eab072b",
   "metadata": {},
   "outputs": [
    {
     "data": {
      "text/plain": [
       "dict"
      ]
     },
     "execution_count": 449,
     "metadata": {},
     "output_type": "execute_result"
    }
   ],
   "source": [
    "type(random_grid)"
   ]
  },
  {
   "cell_type": "code",
   "execution_count": 450,
   "id": "d11aefd9",
   "metadata": {},
   "outputs": [],
   "source": [
    "from sklearn.ensemble import RandomForestClassifier\n",
    "rf=RandomForestClassifier()"
   ]
  },
  {
   "cell_type": "code",
   "execution_count": 451,
   "id": "4293ad21",
   "metadata": {},
   "outputs": [],
   "source": [
    "from sklearn.model_selection import RandomizedSearchCV\n",
    "rscv=RandomizedSearchCV(estimator=rf, param_distributions=random_grid, n_iter=25, cv=5, n_jobs=-1)"
   ]
  },
  {
   "cell_type": "code",
   "execution_count": 452,
   "id": "142feaa0",
   "metadata": {},
   "outputs": [
    {
     "name": "stderr",
     "output_type": "stream",
     "text": [
      "C:\\Users\\Suman Kumar\\anaconda3\\lib\\site-packages\\sklearn\\model_selection\\_split.py:666: UserWarning: The least populated class in y has only 1 members, which is less than n_splits=5.\n",
      "  warnings.warn((\"The least populated class in y has only %d\"\n",
      "C:\\Users\\Suman Kumar\\anaconda3\\lib\\site-packages\\sklearn\\model_selection\\_search.py:922: UserWarning: One or more of the test scores are non-finite: [       nan        nan        nan        nan        nan        nan\n",
      "        nan        nan        nan        nan        nan        nan\n",
      "        nan        nan 0.07768459        nan        nan 0.07235633\n",
      "        nan        nan        nan        nan        nan        nan\n",
      "        nan]\n",
      "  warnings.warn(\n"
     ]
    },
    {
     "data": {
      "text/plain": [
       "RandomizedSearchCV(cv=5, estimator=RandomForestClassifier(), n_iter=25,\n",
       "                   n_jobs=-1,\n",
       "                   param_distributions={'criterion': ['gini', 'empathy'],\n",
       "                                        'max_depth': [6, 7, 8, 9, 10, 11, 12,\n",
       "                                                      13, 14, 15],\n",
       "                                        'max_features': ['sqrt', 'log2', 90,\n",
       "                                                         100],\n",
       "                                        'min_samples_split': [1, 2, 3, 4, 5],\n",
       "                                        'n_estimators': [10, 20, 30, 40, 50, 60,\n",
       "                                                         70, 80]})"
      ]
     },
     "execution_count": 452,
     "metadata": {},
     "output_type": "execute_result"
    }
   ],
   "source": [
    "rscv.fit(x_train,y_train)"
   ]
  },
  {
   "cell_type": "code",
   "execution_count": 453,
   "id": "1bcb12f0",
   "metadata": {},
   "outputs": [
    {
     "data": {
      "text/plain": [
       "{'n_estimators': 60,\n",
       " 'min_samples_split': 3,\n",
       " 'max_features': 'sqrt',\n",
       " 'max_depth': 12,\n",
       " 'criterion': 'gini'}"
      ]
     },
     "execution_count": 453,
     "metadata": {},
     "output_type": "execute_result"
    }
   ],
   "source": [
    "rscv.best_params_"
   ]
  },
  {
   "cell_type": "code",
   "execution_count": 454,
   "id": "06558102",
   "metadata": {},
   "outputs": [],
   "source": [
    "rf_final=RandomForestClassifier(n_estimators=100,min_samples_split=5,max_features=\"sqrt\", max_depth=7,criterion=\"entropy\")"
   ]
  },
  {
   "cell_type": "code",
   "execution_count": 455,
   "id": "0ec0b50a",
   "metadata": {},
   "outputs": [
    {
     "data": {
      "text/plain": [
       "RandomForestClassifier(criterion='entropy', max_depth=7, max_features='sqrt',\n",
       "                       min_samples_split=5)"
      ]
     },
     "execution_count": 455,
     "metadata": {},
     "output_type": "execute_result"
    }
   ],
   "source": [
    "rf_final.fit(x_train,y_train)"
   ]
  },
  {
   "cell_type": "code",
   "execution_count": 456,
   "id": "2da5ba7d",
   "metadata": {},
   "outputs": [],
   "source": [
    "Y_pred=rf_final.predict(x_test)"
   ]
  },
  {
   "cell_type": "code",
   "execution_count": 457,
   "id": "ae94ff81",
   "metadata": {},
   "outputs": [
    {
     "data": {
      "text/plain": [
       "0.0578386605783866"
      ]
     },
     "execution_count": 457,
     "metadata": {},
     "output_type": "execute_result"
    }
   ],
   "source": [
    "from sklearn.metrics import accuracy_score\n",
    "accuracy_score(y_test, y_pred)"
   ]
  },
  {
   "cell_type": "code",
   "execution_count": null,
   "id": "91094858",
   "metadata": {},
   "outputs": [],
   "source": []
  },
  {
   "cell_type": "markdown",
   "id": "a44b7c57",
   "metadata": {},
   "source": [
    "# Use grid search CV to tune the hyperparameter of the best model"
   ]
  },
  {
   "cell_type": "code",
   "execution_count": 458,
   "id": "c4c31587",
   "metadata": {},
   "outputs": [],
   "source": [
    "from sklearn.tree import DecisionTreeClassifier\n",
    "from sklearn.model_selection import GridSearchCV\n",
    "from sklearn.datasets import make_classification"
   ]
  },
  {
   "cell_type": "code",
   "execution_count": 459,
   "id": "55bfd149",
   "metadata": {},
   "outputs": [],
   "source": [
    "\n",
    "# create some data\n",
    "X, y = make_classification(n_samples=1000)"
   ]
  },
  {
   "cell_type": "code",
   "execution_count": 460,
   "id": "8d42866e",
   "metadata": {},
   "outputs": [],
   "source": [
    "# define the model to optimize\n",
    "model = DecisionTreeClassifier()"
   ]
  },
  {
   "cell_type": "code",
   "execution_count": 461,
   "id": "c0907b29",
   "metadata": {},
   "outputs": [],
   "source": [
    "# define the hyperparameter space to search over\n",
    "param_grid = {'max_depth': range(1, 11)}"
   ]
  },
  {
   "cell_type": "code",
   "execution_count": 462,
   "id": "e0e1a726",
   "metadata": {},
   "outputs": [],
   "source": [
    "# define the grid search object\n",
    "grid_search = GridSearchCV(model, param_grid=param_grid, cv=5)"
   ]
  },
  {
   "cell_type": "code",
   "execution_count": 463,
   "id": "028bba23",
   "metadata": {},
   "outputs": [
    {
     "data": {
      "text/plain": [
       "GridSearchCV(cv=5, estimator=DecisionTreeClassifier(),\n",
       "             param_grid={'max_depth': range(1, 11)})"
      ]
     },
     "execution_count": 463,
     "metadata": {},
     "output_type": "execute_result"
    }
   ],
   "source": [
    "# fit the grid search object\n",
    "grid_search.fit(X, y)"
   ]
  },
  {
   "cell_type": "code",
   "execution_count": 464,
   "id": "c210dccd",
   "metadata": {},
   "outputs": [],
   "source": [
    "# extract the best hyperparameters\n",
    "best_params = grid_search.best_params_"
   ]
  },
  {
   "cell_type": "code",
   "execution_count": 465,
   "id": "3c2f0e58",
   "metadata": {},
   "outputs": [
    {
     "data": {
      "text/plain": [
       "DecisionTreeClassifier(max_depth=2)"
      ]
     },
     "execution_count": 465,
     "metadata": {},
     "output_type": "execute_result"
    }
   ],
   "source": [
    "# refit the model with the best hyperparameters\n",
    "best_model = grid_search.best_estimator_\n",
    "best_model"
   ]
  },
  {
   "cell_type": "markdown",
   "id": "4146cda1",
   "metadata": {},
   "source": [
    "# Train a polynomial regression model with degrees 2, and 3 and compare its performance with other models "
   ]
  },
  {
   "cell_type": "code",
   "execution_count": 466,
   "id": "238b6902",
   "metadata": {},
   "outputs": [
    {
     "data": {
      "image/png": "[encoded data removed]",
      "text/plain": [
       "<Figure size 432x288 with 1 Axes>"
      ]
     },
     "metadata": {
      "needs_background": "light"
     },
     "output_type": "display_data"
    }
   ],
   "source": [
    "\n",
    "import numpy as np\n",
    "import matplotlib.pyplot as plt\n",
    "from sklearn.linear_model import LinearRegression\n",
    "from sklearn.preprocessing import PolynomialFeatures\n",
    "\n",
    "# Generate some random data\n",
    "np.random.seed(0)\n",
    "x = np.linspace(0, 10, 100)\n",
    "y = x**2 - 5*x + 6 + np.random.randn(100)*5\n",
    "\n",
    "# Split the data into training and testing sets\n",
    "split = int(0.7*len(x))\n",
    "x_train, y_train = x[:split], y[:split]\n",
    "x_test, y_test = x[split:], y[split:]\n",
    "\n",
    "# Create polynomial features with degree 2 and 3\n",
    "poly2 = PolynomialFeatures(degree=2)\n",
    "poly3 = PolynomialFeatures(degree=3)\n",
    "\n",
    "x_train_poly2 = poly2.fit_transform(x_train.reshape(-1, 1))\n",
    "x_train_poly3 = poly3.fit_transform(x_train.reshape(-1, 1))\n",
    "\n",
    "# Train the polynomial regression models\n",
    "poly_reg2 = LinearRegression()\n",
    "poly_reg3 = LinearRegression()\n",
    "\n",
    "poly_reg2.fit(x_train_poly2, y_train)\n",
    "poly_reg3.fit(x_train_poly3, y_train)\n",
    "\n",
    "# Plot the results\n",
    "plt.scatter(x_train, y_train, color='blue')\n",
    "plt.plot(x, poly_reg2.predict(poly2.transform(x.reshape(-1, 1))), label='Degree 2')\n",
    "plt.plot(x, poly_reg3.predict(poly3.transform(x.reshape(-1, 1))), label='Degree 3')\n",
    "plt.legend()\n",
    "plt.show()"
   ]
  },
  {
   "cell_type": "code",
   "execution_count": null,
   "id": "32a52379",
   "metadata": {},
   "outputs": [],
   "source": []
  },
  {
   "cell_type": "code",
   "execution_count": null,
   "id": "63d89f42",
   "metadata": {},
   "outputs": [],
   "source": []
  }
 ],
 "metadata": {
  "kernelspec": {
   "display_name": "Python 3 (ipykernel)",
   "language": "python",
   "name": "python3"
  },
  "language_info": {
   "codemirror_mode": {
    "name": "ipython",
    "version": 3
   },
   "file_extension": ".py",
   "mimetype": "text/x-python",
   "name": "python",
   "nbconvert_exporter": "python",
   "pygments_lexer": "ipython3",
   "version": "3.9.7"
  }
 },
 "nbformat": 4,
 "nbformat_minor": 5
}
